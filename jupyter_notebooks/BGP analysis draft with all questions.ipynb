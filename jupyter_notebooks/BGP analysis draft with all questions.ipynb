{
 "cells": [
  {
   "cell_type": "markdown",
   "metadata": {},
   "source": [
    "## Introduction to BGP Analysis using Batfish"
   ]
  },
  {
   "cell_type": "markdown",
   "metadata": {},
   "source": [
    "Network engineers routinely need to validate BGP configuration and session status in the network. This is commonly done by connecting to multiple network devices and executing a series of `show ip bgp` commands. This distributed debugging is highly complex even in a moderately-sized network. Batfish makes BGP analysis extremely simple by providing an easy-to-query, centralized view of routing tables in the network. \n",
    "\n",
    "In this notebook, we will show how you can extract BGP configuration and session status information with Batfish.\n",
    "\n",
    "![Analytics](https://ga-beacon.appspot.com/UA-100596389-3/open-source/pybatfish/jupyter_notebooks/intro-bgp-analysis?pixel&useReferer)"
   ]
  },
  {
   "cell_type": "code",
   "execution_count": 1,
   "metadata": {},
   "outputs": [
    {
     "name": "stderr",
     "output_type": "stream",
     "text": [
      "/Users/corinaminer/Batfish/pybatfish/pybatfish/client/commands.py:50: UserWarning: Pybatfish public API is being updated, note that API names and parameters will soon change.\n",
      "  \"Pybatfish public API is being updated, note that API names and parameters will soon change.\")\n"
     ]
    }
   ],
   "source": [
    "# Import packages and load questions\n",
    "%run startup.py"
   ]
  },
  {
   "cell_type": "code",
   "execution_count": 2,
   "metadata": {},
   "outputs": [
    {
     "data": {
      "text/plain": [
       "'bgp_snapshot'"
      ]
     },
     "execution_count": 2,
     "metadata": {},
     "output_type": "execute_result"
    }
   ],
   "source": [
    "# Initialize a network and snapshot\n",
    "NETWORK_NAME = \"bgp_network\"\n",
    "SNAPSHOT_NAME = \"bgp_snapshot\"\n",
    "\n",
    "SNAPSHOT_PATH = \"networks/example\"\n",
    "\n",
    "bf_set_network(NETWORK_NAME)\n",
    "bf_init_snapshot(SNAPSHOT_PATH, name=SNAPSHOT_NAME, overwrite=True)"
   ]
  },
  {
   "cell_type": "markdown",
   "metadata": {},
   "source": [
    "now tell them about the network and the issue: Interface utilization on core routers is badly distributed\n",
    "\n",
    "Traffic from dept disproportionately hits core2 instead of core1 *(reason: dist2 doesn't have a route to core1)*"
   ]
  },
  {
   "cell_type": "markdown",
   "metadata": {},
   "source": [
    "## BGP process configuration\n",
    "First, let's ensure that BGP is configured on the routers in question. The `BgpProcessConfiguration` question lists BGP processes configured on a given set of nodes, or on all nodes if no parameters are given."
   ]
  },
  {
   "cell_type": "code",
   "execution_count": 3,
   "metadata": {
    "scrolled": true
   },
   "outputs": [
    {
     "data": {
      "text/html": [
       "<div>\n",
       "<style scoped>\n",
       "    .dataframe tbody tr th:only-of-type {\n",
       "        vertical-align: middle;\n",
       "    }\n",
       "\n",
       "    .dataframe tbody tr th {\n",
       "        vertical-align: top;\n",
       "    }\n",
       "\n",
       "    .dataframe thead th {\n",
       "        text-align: right;\n",
       "    }\n",
       "</style>\n",
       "<table border=\"1\" class=\"dataframe\">\n",
       "  <thead>\n",
       "    <tr style=\"text-align: right;\">\n",
       "      <th></th>\n",
       "      <th>Node</th>\n",
       "      <th>VRF</th>\n",
       "      <th>Router_ID</th>\n",
       "      <th>Cluster_IDs</th>\n",
       "      <th>Multipath_EBGP</th>\n",
       "      <th>Multipath_IBGP</th>\n",
       "      <th>Tie_Breaker</th>\n",
       "      <th>Neighbors</th>\n",
       "      <th>Route_Reflector</th>\n",
       "      <th>Multipath_Match_Mode</th>\n",
       "    </tr>\n",
       "  </thead>\n",
       "  <tbody>\n",
       "    <tr>\n",
       "      <th>0</th>\n",
       "      <td>as2dist2</td>\n",
       "      <td>default</td>\n",
       "      <td>2.1.3.2</td>\n",
       "      <td>None</td>\n",
       "      <td>True</td>\n",
       "      <td>True</td>\n",
       "      <td>ARRIVAL_ORDER</td>\n",
       "      <td>['2.1.2.1/32', '2.1.2.2/32', '2.34.201.4/32']</td>\n",
       "      <td>False</td>\n",
       "      <td>EXACT_PATH</td>\n",
       "    </tr>\n",
       "    <tr>\n",
       "      <th>1</th>\n",
       "      <td>as2core1</td>\n",
       "      <td>default</td>\n",
       "      <td>2.1.2.1</td>\n",
       "      <td>['2.1.2.1']</td>\n",
       "      <td>True</td>\n",
       "      <td>True</td>\n",
       "      <td>ARRIVAL_ORDER</td>\n",
       "      <td>['2.1.1.1/32', '2.1.1.2/32', '2.1.3.1/32', '2.1.3.2/32']</td>\n",
       "      <td>True</td>\n",
       "      <td>EXACT_PATH</td>\n",
       "    </tr>\n",
       "  </tbody>\n",
       "</table>\n",
       "</div>"
      ],
      "text/plain": [
       "       Node      VRF Router_ID  Cluster_IDs  Multipath_EBGP  Multipath_IBGP  \\\n",
       "0  as2dist2  default  2.1.3.2   None         True            True             \n",
       "1  as2core1  default  2.1.2.1   ['2.1.2.1']  True            True             \n",
       "\n",
       "     Tie_Breaker                                                 Neighbors  \\\n",
       "0  ARRIVAL_ORDER  ['2.1.2.1/32', '2.1.2.2/32', '2.34.201.4/32']              \n",
       "1  ARRIVAL_ORDER  ['2.1.1.1/32', '2.1.1.2/32', '2.1.3.1/32', '2.1.3.2/32']   \n",
       "\n",
       "   Route_Reflector Multipath_Match_Mode  \n",
       "0  False            EXACT_PATH           \n",
       "1  True             EXACT_PATH           "
      ]
     },
     "execution_count": 3,
     "metadata": {},
     "output_type": "execute_result"
    }
   ],
   "source": [
    "bfq.bgpProcessConfiguration(nodes='as2core1|as2dist2').answer().frame()"
   ]
  },
  {
   "cell_type": "markdown",
   "metadata": {},
   "source": [
    "The results of `BgpProcessConfiguration` show that `as2core1` and `as2dist2` do have BGP configured. We can also see that `as2core1` has a `Cluster ID`, which means it is configured to be a route reflector for some of its BGP peers."
   ]
  },
  {
   "cell_type": "markdown",
   "metadata": {},
   "source": [
    "## BGP peer configuration\n",
    "Next we can look for any issues with the individual BGP peers configured on `as2core1` and `as2dist2`. The `BgpPeerConfiguration` question shows all BGP peers configured on a given set of nodes, or on all nodes if no parameters are given."
   ]
  },
  {
   "cell_type": "code",
   "execution_count": 4,
   "metadata": {
    "scrolled": true
   },
   "outputs": [
    {
     "data": {
      "text/html": [
       "<div>\n",
       "<style scoped>\n",
       "    .dataframe tbody tr th:only-of-type {\n",
       "        vertical-align: middle;\n",
       "    }\n",
       "\n",
       "    .dataframe tbody tr th {\n",
       "        vertical-align: top;\n",
       "    }\n",
       "\n",
       "    .dataframe thead th {\n",
       "        text-align: right;\n",
       "    }\n",
       "</style>\n",
       "<table border=\"1\" class=\"dataframe\">\n",
       "  <thead>\n",
       "    <tr style=\"text-align: right;\">\n",
       "      <th></th>\n",
       "      <th>Node</th>\n",
       "      <th>VRF</th>\n",
       "      <th>Local_AS</th>\n",
       "      <th>Local_IP</th>\n",
       "      <th>Remote_AS</th>\n",
       "      <th>Remote_IP</th>\n",
       "      <th>Route_Reflector_Client</th>\n",
       "      <th>Peer_Group</th>\n",
       "      <th>Import_Policy</th>\n",
       "      <th>Export_Policy</th>\n",
       "      <th>Send_Community</th>\n",
       "    </tr>\n",
       "  </thead>\n",
       "  <tbody>\n",
       "    <tr>\n",
       "      <th>0</th>\n",
       "      <td>as2core1</td>\n",
       "      <td>default</td>\n",
       "      <td>2</td>\n",
       "      <td>2.1.2.1</td>\n",
       "      <td>2</td>\n",
       "      <td>2.1.1.1</td>\n",
       "      <td>True</td>\n",
       "      <td>as2</td>\n",
       "      <td>[]</td>\n",
       "      <td>[]</td>\n",
       "      <td>True</td>\n",
       "    </tr>\n",
       "    <tr>\n",
       "      <th>1</th>\n",
       "      <td>as2dist2</td>\n",
       "      <td>default</td>\n",
       "      <td>2</td>\n",
       "      <td>2.1.3.2</td>\n",
       "      <td>2</td>\n",
       "      <td>2.1.2.1</td>\n",
       "      <td>False</td>\n",
       "      <td>as2</td>\n",
       "      <td>[]</td>\n",
       "      <td>[]</td>\n",
       "      <td>True</td>\n",
       "    </tr>\n",
       "    <tr>\n",
       "      <th>2</th>\n",
       "      <td>as2dist2</td>\n",
       "      <td>default</td>\n",
       "      <td>2</td>\n",
       "      <td>2.1.3.2</td>\n",
       "      <td>2</td>\n",
       "      <td>2.1.2.2</td>\n",
       "      <td>False</td>\n",
       "      <td>as2</td>\n",
       "      <td>[]</td>\n",
       "      <td>[]</td>\n",
       "      <td>True</td>\n",
       "    </tr>\n",
       "    <tr>\n",
       "      <th>3</th>\n",
       "      <td>as2core1</td>\n",
       "      <td>default</td>\n",
       "      <td>2</td>\n",
       "      <td>2.1.2.1</td>\n",
       "      <td>2</td>\n",
       "      <td>2.1.3.1</td>\n",
       "      <td>True</td>\n",
       "      <td>as2</td>\n",
       "      <td>[]</td>\n",
       "      <td>[]</td>\n",
       "      <td>True</td>\n",
       "    </tr>\n",
       "    <tr>\n",
       "      <th>4</th>\n",
       "      <td>as2dist2</td>\n",
       "      <td>default</td>\n",
       "      <td>2</td>\n",
       "      <td>2.34.201.3</td>\n",
       "      <td>65001</td>\n",
       "      <td>2.34.201.4</td>\n",
       "      <td>False</td>\n",
       "      <td>dept</td>\n",
       "      <td>['dept_to_as2dist']</td>\n",
       "      <td>['as2dist_to_dept']</td>\n",
       "      <td>True</td>\n",
       "    </tr>\n",
       "    <tr>\n",
       "      <th>5</th>\n",
       "      <td>as2core1</td>\n",
       "      <td>default</td>\n",
       "      <td>2</td>\n",
       "      <td>2.1.2.1</td>\n",
       "      <td>2</td>\n",
       "      <td>2.1.1.2</td>\n",
       "      <td>True</td>\n",
       "      <td>as2</td>\n",
       "      <td>[]</td>\n",
       "      <td>[]</td>\n",
       "      <td>True</td>\n",
       "    </tr>\n",
       "    <tr>\n",
       "      <th>6</th>\n",
       "      <td>as2core1</td>\n",
       "      <td>default</td>\n",
       "      <td>2</td>\n",
       "      <td>2.1.2.1</td>\n",
       "      <td>2</td>\n",
       "      <td>2.1.3.2</td>\n",
       "      <td>True</td>\n",
       "      <td>as2</td>\n",
       "      <td>[]</td>\n",
       "      <td>[]</td>\n",
       "      <td>True</td>\n",
       "    </tr>\n",
       "  </tbody>\n",
       "</table>\n",
       "</div>"
      ],
      "text/plain": [
       "       Node      VRF  Local_AS    Local_IP  Remote_AS   Remote_IP  \\\n",
       "0  as2core1  default  2         2.1.2.1     2          2.1.1.1      \n",
       "1  as2dist2  default  2         2.1.3.2     2          2.1.2.1      \n",
       "2  as2dist2  default  2         2.1.3.2     2          2.1.2.2      \n",
       "3  as2core1  default  2         2.1.2.1     2          2.1.3.1      \n",
       "4  as2dist2  default  2         2.34.201.3  65001      2.34.201.4   \n",
       "5  as2core1  default  2         2.1.2.1     2          2.1.1.2      \n",
       "6  as2core1  default  2         2.1.2.1     2          2.1.3.2      \n",
       "\n",
       "   Route_Reflector_Client Peer_Group        Import_Policy  \\\n",
       "0  True                    as2        []                    \n",
       "1  False                   as2        []                    \n",
       "2  False                   as2        []                    \n",
       "3  True                    as2        []                    \n",
       "4  False                   dept       ['dept_to_as2dist']   \n",
       "5  True                    as2        []                    \n",
       "6  True                    as2        []                    \n",
       "\n",
       "         Export_Policy  Send_Community  \n",
       "0  []                   True            \n",
       "1  []                   True            \n",
       "2  []                   True            \n",
       "3  []                   True            \n",
       "4  ['as2dist_to_dept']  True            \n",
       "5  []                   True            \n",
       "6  []                   True            "
      ]
     },
     "execution_count": 4,
     "metadata": {},
     "output_type": "execute_result"
    }
   ],
   "source": [
    "# BgpPeerConfiguration shows all configured BGP peers\n",
    "bfq.bgpPeerConfiguration(nodes='as2core1|as2dist2').answer().frame()"
   ]
  },
  {
   "cell_type": "markdown",
   "metadata": {},
   "source": [
    "Rows 1 and 6 appear to be correctly configured to peer with each other."
   ]
  },
  {
   "cell_type": "markdown",
   "metadata": {},
   "source": [
    "## BGP session status\n",
    "Next, let's see if the BGP session between `as2core1` and `as2dist2` will get established. The `BgpSessionStatus` question shows which compatible BGP peers establish sessions. Unlike the previous questions, this question relies on Batfish's generated data plane to provide information that would normally only be accessible by querying the live network, so it will take longer to run the first time while the data plane gets built."
   ]
  },
  {
   "cell_type": "code",
   "execution_count": null,
   "metadata": {},
   "outputs": [],
   "source": [
    "bfq.bgpSessionStatus(nodes='as2core1|as2dist2').answer().frame()"
   ]
  },
  {
   "cell_type": "markdown",
   "metadata": {},
   "source": [
    "Now we can see that the BGP session did *not* get established between the BGP peers on `as2core1` and `as2dist2`, even though they seemed compatible based on the results of `BgpPeerConfiguration`."
   ]
  },
  {
   "cell_type": "markdown",
   "metadata": {},
   "source": [
    "## BGP session compatibility\n",
    "Did we miss something when we looked at the results of `BgpPeerConfiguration`? The `BgpSessionCompatibility` question gives a direct answer to whether BGP peers are compatible, and better insight into why incompatible peers are not compatible."
   ]
  },
  {
   "cell_type": "code",
   "execution_count": null,
   "metadata": {},
   "outputs": [],
   "source": [
    "bfq.bgpSessionCompatibility(nodes='as2core1|as2dist2').answer().frame()"
   ]
  },
  {
   "cell_type": "markdown",
   "metadata": {},
   "source": [
    "Now we can be confident that the BGP peers between `as2core1` and `as2dist2` are correctly configured. There must be some other problem preventing the session from being established.\n",
    "\n",
    "While we're looking at `BgpSessionCompatibility`, let's check the rest of the network for any BGP peers that are not compatibly configured. We will limit the output to peers whose configured status is *not* `UNIQUE_MATCH`."
   ]
  },
  {
   "cell_type": "code",
   "execution_count": null,
   "metadata": {},
   "outputs": [],
   "source": [
    "all_session_compatibility = bfq.bgpSessionCompatibility().answer().frame()\n",
    "all_session_compatibility[all_session_compatibility['Configured_Status'] != 'UNIQUE_MATCH']"
   ]
  },
  {
   "cell_type": "markdown",
   "metadata": {},
   "source": [
    "Of these results, the first two have no local IP configured, so will be unable to establish sessions: almost certainly an oversight that should be fixed. The third has a remote IP outside of the network Batfish is modeling, so it may be able to establish a session in the live network, but Batfish doesn't have enough information to be sure. Here is the full list of possible configured statuses:\n",
    "- `LOCAL_IP_UNKNOWN_STATICALLY` when no local IP is configured for an IBGP or EBGP multihop session\n",
    "- `NO_LOCAL_IP` when no local IP is configured for other types of sessions\n",
    "- `INVALID_LOCAL_IP` when the local IP is not associated with a known interface\n",
    "- `NO_REMOTE_AS` when no remote AS is configured\n",
    "- `UNKNOWN_REMOTE` when no remote IP is configured, or the remote IP is not associated with a known interface\n",
    "- `HALF_OPEN` when no remote peer is configured compatibly\n",
    "- `MULTIPLE_REMOTES` when multiple remote peers are configured compatibly\n",
    "- `UNIQUE_MATCH` when the peer is compatibly configured with one remote peer\n",
    "- `DYNAMIC_LISTEN` for a correctly configured passive peer\n",
    "\n",
    "These three results do not offer an explanation for the problem at hand, so let's keep looking."
   ]
  },
  {
   "cell_type": "markdown",
   "metadata": {},
   "source": [
    "## Check routes\n",
    "Now we know the BGP peers on `as2core1` and `as2dist2` are compatible, but the session is not established. Let's make sure the routes that should be used to establish the session are present."
   ]
  },
  {
   "cell_type": "code",
   "execution_count": null,
   "metadata": {},
   "outputs": [],
   "source": [
    "# Show loopback routes for as2core1\n",
    "routes = bfq.routes(nodes=\"as2core1|as2dist2\").answer().frame()\n",
    "routes[routes['Network'].apply(lambda x: '/32' in x)]"
   ]
  },
  {
   "cell_type": "markdown",
   "metadata": {},
   "source": [
    "Find that loopback is not advertised (missing from routes), thus solving the mystery"
   ]
  },
  {
   "cell_type": "markdown",
   "metadata": {},
   "source": [
    "***\n",
    "### Get involved with the Batfish community\n",
    "\n",
    "Join our community on [Slack](https://join.slack.com/t/batfish-org/shared_invite/enQtMzA0Nzg2OTAzNzQ1LTUxOTJlY2YyNTVlNGQ3MTJkOTIwZTU2YjY3YzRjZWFiYzE4ODE5ODZiNjA4NGI5NTJhZmU2ZTllOTMwZDhjMzA) and [Github](https://github.com/batfish/batfish). "
   ]
  }
 ],
 "metadata": {
  "kernelspec": {
   "display_name": "Python 3",
   "language": "python",
   "name": "python3"
  },
  "language_info": {
   "codemirror_mode": {
    "name": "ipython",
    "version": 3
   },
   "file_extension": ".py",
   "mimetype": "text/x-python",
   "name": "python",
   "nbconvert_exporter": "python",
   "pygments_lexer": "ipython3",
   "version": "3.6.4"
  }
 },
 "nbformat": 4,
 "nbformat_minor": 2
}
