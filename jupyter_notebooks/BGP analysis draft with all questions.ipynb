{
 "cells": [
  {
   "cell_type": "markdown",
   "metadata": {},
   "source": [
    "## Introduction to BGP Analysis using Batfish"
   ]
  },
  {
   "cell_type": "markdown",
   "metadata": {},
   "source": [
    "Network engineers routinely need to validate BGP configuration and session status in the network. The most common way to accomplish this is by connecting to multiple network devices and executing a series of `show ip bgp` commands. This distributed debugging is highly complex even in a moderately-sized network. Batfish makes BGP analysis extremely simple by providing an easy-to-query, centralized view of routing tables in the network. \n",
    "\n",
    "In this notebook, we will show how you can extract BGP configuration and session status information with Batfish.\n",
    "\n",
    "![Analytics](https://ga-beacon.appspot.com/UA-100596389-3/open-source/pybatfish/jupyter_notebooks/intro-bgp-analysis?pixel&useReferer)"
   ]
  },
  {
   "cell_type": "code",
   "execution_count": 1,
   "metadata": {},
   "outputs": [],
   "source": [
    "# Import packages and load questions\n",
    "%run startup.py"
   ]
  },
  {
   "cell_type": "code",
   "execution_count": 2,
   "metadata": {},
   "outputs": [
    {
     "data": {
      "text/plain": [
       "'bgp_snapshot'"
      ]
     },
     "execution_count": 2,
     "metadata": {},
     "output_type": "execute_result"
    }
   ],
   "source": [
    "# Initialize a network and snapshot\n",
    "NETWORK_NAME = \"bgp_network\"\n",
    "SNAPSHOT_NAME = \"bgp_snapshot\"\n",
    "\n",
    "SNAPSHOT_PATH = \"networks/example-bgp\"\n",
    "\n",
    "bf_set_network(NETWORK_NAME)\n",
    "bf_init_snapshot(SNAPSHOT_PATH, name=SNAPSHOT_NAME, overwrite=True)"
   ]
  },
  {
   "cell_type": "markdown",
   "metadata": {},
   "source": [
    "now tell them about the network and the issue: Interface utilization on core routers is badly distributed\n",
    "\n",
    "Traffic from dept disproportionately hits core2 instead of core1 *(reason: dist2 doesn't have a route to core1)*"
   ]
  },
  {
   "cell_type": "markdown",
   "metadata": {},
   "source": [
    "## BGP process configuration\n",
    "First, let's ensure that BGP is configured on the routers in question. The `BgpProcessConfiguration` question lists BGP processes configured on a given set of nodes, or on all nodes if no parameters are given."
   ]
  },
  {
   "cell_type": "code",
   "execution_count": 3,
   "metadata": {
    "scrolled": true
   },
   "outputs": [
    {
     "data": {
      "text/html": [
       "<div>\n",
       "<style scoped>\n",
       "    .dataframe tbody tr th:only-of-type {\n",
       "        vertical-align: middle;\n",
       "    }\n",
       "\n",
       "    .dataframe tbody tr th {\n",
       "        vertical-align: top;\n",
       "    }\n",
       "\n",
       "    .dataframe thead th {\n",
       "        text-align: right;\n",
       "    }\n",
       "</style>\n",
       "<table border=\"1\" class=\"dataframe\">\n",
       "  <thead>\n",
       "    <tr style=\"text-align: right;\">\n",
       "      <th></th>\n",
       "      <th>Node</th>\n",
       "      <th>VRF</th>\n",
       "      <th>Router_ID</th>\n",
       "      <th>Multipath_EBGP</th>\n",
       "      <th>Multipath_IBGP</th>\n",
       "      <th>Tie_Breaker</th>\n",
       "      <th>Neighbors</th>\n",
       "      <th>Route_Reflector</th>\n",
       "      <th>Multipath_Match_Mode</th>\n",
       "    </tr>\n",
       "  </thead>\n",
       "  <tbody>\n",
       "    <tr>\n",
       "      <th>0</th>\n",
       "      <td>as2dist2</td>\n",
       "      <td>default</td>\n",
       "      <td>2.1.3.2</td>\n",
       "      <td>True</td>\n",
       "      <td>True</td>\n",
       "      <td>ARRIVAL_ORDER</td>\n",
       "      <td>['2.1.2.1/32', '2.1.2.2/32', '2.34.0.0/16']</td>\n",
       "      <td>False</td>\n",
       "      <td>EXACT_PATH</td>\n",
       "    </tr>\n",
       "    <tr>\n",
       "      <th>1</th>\n",
       "      <td>as2core1</td>\n",
       "      <td>default</td>\n",
       "      <td>2.1.2.1</td>\n",
       "      <td>True</td>\n",
       "      <td>True</td>\n",
       "      <td>ARRIVAL_ORDER</td>\n",
       "      <td>['2.1.1.1/32', '2.1.1.2/32', '2.1.3.1/32', '2.1.3.2/32']</td>\n",
       "      <td>True</td>\n",
       "      <td>EXACT_PATH</td>\n",
       "    </tr>\n",
       "  </tbody>\n",
       "</table>\n",
       "</div>"
      ],
      "text/plain": [
       "       Node      VRF Router_ID  Multipath_EBGP  Multipath_IBGP    Tie_Breaker  \\\n",
       "0  as2dist2  default  2.1.3.2   True            True            ARRIVAL_ORDER   \n",
       "1  as2core1  default  2.1.2.1   True            True            ARRIVAL_ORDER   \n",
       "\n",
       "                                                  Neighbors  Route_Reflector  \\\n",
       "0  ['2.1.2.1/32', '2.1.2.2/32', '2.34.0.0/16']               False             \n",
       "1  ['2.1.1.1/32', '2.1.1.2/32', '2.1.3.1/32', '2.1.3.2/32']  True              \n",
       "\n",
       "  Multipath_Match_Mode  \n",
       "0  EXACT_PATH           \n",
       "1  EXACT_PATH           "
      ]
     },
     "execution_count": 3,
     "metadata": {},
     "output_type": "execute_result"
    }
   ],
   "source": [
    "bfq.bgpProcessConfiguration(nodes='as2core1|as2dist2').answer().frame()"
   ]
  },
  {
   "cell_type": "markdown",
   "metadata": {},
   "source": [
    "The results of `BgpProcessConfiguration` show that `as2core1` and `as2dist2` do have BGP configured. Let's look at their configured peers."
   ]
  },
  {
   "cell_type": "markdown",
   "metadata": {},
   "source": [
    "## BGP peer configuration\n",
    "Next we can look for any issues with the individual BGP peers configured on `as2core1` and `as2dist2`. The `BgpPeerConfiguration` question shows all BGP peers configured on a given set of nodes, or on all nodes if no parameters are given."
   ]
  },
  {
   "cell_type": "code",
   "execution_count": 4,
   "metadata": {
    "scrolled": true
   },
   "outputs": [
    {
     "data": {
      "text/html": [
       "<div>\n",
       "<style scoped>\n",
       "    .dataframe tbody tr th:only-of-type {\n",
       "        vertical-align: middle;\n",
       "    }\n",
       "\n",
       "    .dataframe tbody tr th {\n",
       "        vertical-align: top;\n",
       "    }\n",
       "\n",
       "    .dataframe thead th {\n",
       "        text-align: right;\n",
       "    }\n",
       "</style>\n",
       "<table border=\"1\" class=\"dataframe\">\n",
       "  <thead>\n",
       "    <tr style=\"text-align: right;\">\n",
       "      <th></th>\n",
       "      <th>Node</th>\n",
       "      <th>VRF</th>\n",
       "      <th>Local_AS</th>\n",
       "      <th>Local_IP</th>\n",
       "      <th>Remote_AS</th>\n",
       "      <th>Remote_IP</th>\n",
       "      <th>Route_Reflector_Client</th>\n",
       "      <th>Cluster_ID</th>\n",
       "      <th>Peer_Group</th>\n",
       "      <th>Import_Policy</th>\n",
       "      <th>Export_Policy</th>\n",
       "      <th>Send_Community</th>\n",
       "      <th>Is_Passive</th>\n",
       "    </tr>\n",
       "  </thead>\n",
       "  <tbody>\n",
       "    <tr>\n",
       "      <th>0</th>\n",
       "      <td>as2dist2</td>\n",
       "      <td>default</td>\n",
       "      <td>2</td>\n",
       "      <td>2.1.3.2</td>\n",
       "      <td>2</td>\n",
       "      <td>2.1.2.2</td>\n",
       "      <td>False</td>\n",
       "      <td>None</td>\n",
       "      <td>as2</td>\n",
       "      <td>[]</td>\n",
       "      <td>[]</td>\n",
       "      <td>True</td>\n",
       "      <td>False</td>\n",
       "    </tr>\n",
       "    <tr>\n",
       "      <th>1</th>\n",
       "      <td>as2core1</td>\n",
       "      <td>default</td>\n",
       "      <td>2</td>\n",
       "      <td>2.1.2.1</td>\n",
       "      <td>2</td>\n",
       "      <td>2.1.1.1</td>\n",
       "      <td>True</td>\n",
       "      <td>2.1.2.1</td>\n",
       "      <td>as2</td>\n",
       "      <td>[]</td>\n",
       "      <td>[]</td>\n",
       "      <td>True</td>\n",
       "      <td>False</td>\n",
       "    </tr>\n",
       "    <tr>\n",
       "      <th>2</th>\n",
       "      <td>as2dist2</td>\n",
       "      <td>default</td>\n",
       "      <td>2</td>\n",
       "      <td>2.1.3.2</td>\n",
       "      <td>2</td>\n",
       "      <td>2.1.2.1</td>\n",
       "      <td>False</td>\n",
       "      <td>None</td>\n",
       "      <td>as2</td>\n",
       "      <td>[]</td>\n",
       "      <td>[]</td>\n",
       "      <td>True</td>\n",
       "      <td>False</td>\n",
       "    </tr>\n",
       "    <tr>\n",
       "      <th>3</th>\n",
       "      <td>as2core1</td>\n",
       "      <td>default</td>\n",
       "      <td>2</td>\n",
       "      <td>2.1.2.1</td>\n",
       "      <td>2</td>\n",
       "      <td>2.1.3.1</td>\n",
       "      <td>True</td>\n",
       "      <td>2.1.2.1</td>\n",
       "      <td>as2</td>\n",
       "      <td>[]</td>\n",
       "      <td>[]</td>\n",
       "      <td>True</td>\n",
       "      <td>False</td>\n",
       "    </tr>\n",
       "    <tr>\n",
       "      <th>4</th>\n",
       "      <td>as2core1</td>\n",
       "      <td>default</td>\n",
       "      <td>2</td>\n",
       "      <td>2.1.2.1</td>\n",
       "      <td>2</td>\n",
       "      <td>2.1.1.2</td>\n",
       "      <td>True</td>\n",
       "      <td>2.1.2.1</td>\n",
       "      <td>as2</td>\n",
       "      <td>[]</td>\n",
       "      <td>[]</td>\n",
       "      <td>True</td>\n",
       "      <td>False</td>\n",
       "    </tr>\n",
       "    <tr>\n",
       "      <th>5</th>\n",
       "      <td>as2core1</td>\n",
       "      <td>default</td>\n",
       "      <td>2</td>\n",
       "      <td>2.1.2.1</td>\n",
       "      <td>2</td>\n",
       "      <td>2.1.3.2</td>\n",
       "      <td>True</td>\n",
       "      <td>2.1.2.1</td>\n",
       "      <td>as2</td>\n",
       "      <td>[]</td>\n",
       "      <td>[]</td>\n",
       "      <td>True</td>\n",
       "      <td>False</td>\n",
       "    </tr>\n",
       "    <tr>\n",
       "      <th>6</th>\n",
       "      <td>as2dist2</td>\n",
       "      <td>default</td>\n",
       "      <td>2</td>\n",
       "      <td>AUTO/NONE(-1l)</td>\n",
       "      <td>[65001]</td>\n",
       "      <td>2.34.0.0/16</td>\n",
       "      <td>False</td>\n",
       "      <td>None</td>\n",
       "      <td>dept</td>\n",
       "      <td>['dept_to_as2dist']</td>\n",
       "      <td>['as2dist_to_dept']</td>\n",
       "      <td>True</td>\n",
       "      <td>True</td>\n",
       "    </tr>\n",
       "  </tbody>\n",
       "</table>\n",
       "</div>"
      ],
      "text/plain": [
       "       Node      VRF  Local_AS        Local_IP Remote_AS    Remote_IP  \\\n",
       "0  as2dist2  default  2         2.1.3.2         2         2.1.2.2       \n",
       "1  as2core1  default  2         2.1.2.1         2         2.1.1.1       \n",
       "2  as2dist2  default  2         2.1.3.2         2         2.1.2.1       \n",
       "3  as2core1  default  2         2.1.2.1         2         2.1.3.1       \n",
       "4  as2core1  default  2         2.1.2.1         2         2.1.1.2       \n",
       "5  as2core1  default  2         2.1.2.1         2         2.1.3.2       \n",
       "6  as2dist2  default  2         AUTO/NONE(-1l)  [65001]   2.34.0.0/16   \n",
       "\n",
       "   Route_Reflector_Client Cluster_ID Peer_Group        Import_Policy  \\\n",
       "0  False                   None       as2        []                    \n",
       "1  True                    2.1.2.1    as2        []                    \n",
       "2  False                   None       as2        []                    \n",
       "3  True                    2.1.2.1    as2        []                    \n",
       "4  True                    2.1.2.1    as2        []                    \n",
       "5  True                    2.1.2.1    as2        []                    \n",
       "6  False                   None       dept       ['dept_to_as2dist']   \n",
       "\n",
       "         Export_Policy  Send_Community  Is_Passive  \n",
       "0  []                   True            False       \n",
       "1  []                   True            False       \n",
       "2  []                   True            False       \n",
       "3  []                   True            False       \n",
       "4  []                   True            False       \n",
       "5  []                   True            False       \n",
       "6  ['as2dist_to_dept']  True            True        "
      ]
     },
     "execution_count": 4,
     "metadata": {},
     "output_type": "execute_result"
    }
   ],
   "source": [
    "# BgpPeerConfiguration shows all configured BGP peers\n",
    "bfq.bgpPeerConfiguration(nodes='as2core1|as2dist2').answer().frame()"
   ]
  },
  {
   "cell_type": "markdown",
   "metadata": {},
   "source": [
    "Rows 2 and 5 appear to be correctly configured to peer with each other."
   ]
  },
  {
   "cell_type": "markdown",
   "metadata": {},
   "source": [
    "## BGP session status\n",
    "Next, let's see if the BGP session between `as2core1` and `as2dist2` will get established. The `BgpSessionStatus` question shows which compatible BGP peers establish sessions. Unlike the previous questions, this question relies on Batfish's generated data plane to provide information that would normally only be accessible by querying the live network, so it will take longer to run the first time while the data plane gets built."
   ]
  },
  {
   "cell_type": "code",
   "execution_count": 5,
   "metadata": {},
   "outputs": [
    {
     "data": {
      "text/html": [
       "<div>\n",
       "<style scoped>\n",
       "    .dataframe tbody tr th:only-of-type {\n",
       "        vertical-align: middle;\n",
       "    }\n",
       "\n",
       "    .dataframe tbody tr th {\n",
       "        vertical-align: top;\n",
       "    }\n",
       "\n",
       "    .dataframe thead th {\n",
       "        text-align: right;\n",
       "    }\n",
       "</style>\n",
       "<table border=\"1\" class=\"dataframe\">\n",
       "  <thead>\n",
       "    <tr style=\"text-align: right;\">\n",
       "      <th></th>\n",
       "      <th>Node</th>\n",
       "      <th>VRF</th>\n",
       "      <th>Local_AS</th>\n",
       "      <th>Local_Interface</th>\n",
       "      <th>Local_IP</th>\n",
       "      <th>Remote_AS</th>\n",
       "      <th>Remote_Node</th>\n",
       "      <th>Remote_IP</th>\n",
       "      <th>Session_Type</th>\n",
       "      <th>Established_Status</th>\n",
       "    </tr>\n",
       "  </thead>\n",
       "  <tbody>\n",
       "    <tr>\n",
       "      <th>0</th>\n",
       "      <td>as2core1</td>\n",
       "      <td>default</td>\n",
       "      <td>2</td>\n",
       "      <td>as2core1:Loopback0</td>\n",
       "      <td>2.1.2.1</td>\n",
       "      <td>2</td>\n",
       "      <td>as2dist2</td>\n",
       "      <td>2.1.3.2</td>\n",
       "      <td>IBGP</td>\n",
       "      <td>NOT_ESTABLISHED</td>\n",
       "    </tr>\n",
       "    <tr>\n",
       "      <th>1</th>\n",
       "      <td>as2dist2</td>\n",
       "      <td>default</td>\n",
       "      <td>2</td>\n",
       "      <td>as2dist2:Loopback0</td>\n",
       "      <td>2.1.3.2</td>\n",
       "      <td>2</td>\n",
       "      <td>as2core1</td>\n",
       "      <td>2.1.2.1</td>\n",
       "      <td>IBGP</td>\n",
       "      <td>NOT_ESTABLISHED</td>\n",
       "    </tr>\n",
       "  </tbody>\n",
       "</table>\n",
       "</div>"
      ],
      "text/plain": [
       "       Node      VRF  Local_AS     Local_Interface Local_IP  Remote_AS  \\\n",
       "0  as2core1  default  2         as2core1:Loopback0  2.1.2.1  2           \n",
       "1  as2dist2  default  2         as2dist2:Loopback0  2.1.3.2  2           \n",
       "\n",
       "  Remote_Node Remote_IP Session_Type Established_Status  \n",
       "0  as2dist2    2.1.3.2   IBGP         NOT_ESTABLISHED    \n",
       "1  as2core1    2.1.2.1   IBGP         NOT_ESTABLISHED    "
      ]
     },
     "execution_count": 5,
     "metadata": {},
     "output_type": "execute_result"
    }
   ],
   "source": [
    "bfq.bgpSessionStatus(nodes='as2core1|as2dist2', remoteNodes='as2core1|as2dist2').answer().frame()"
   ]
  },
  {
   "cell_type": "markdown",
   "metadata": {},
   "source": [
    "Now we can see that the BGP session did *not* get established between the BGP peers on `as2core1` and `as2dist2`, even though they seemed compatible based on the results of `BgpPeerConfiguration`."
   ]
  },
  {
   "cell_type": "markdown",
   "metadata": {},
   "source": [
    "## BGP session compatibility\n",
    "Did we miss something when we looked at the results of `BgpPeerConfiguration`? The `BgpSessionCompatibility` question shows the compatibility of BGP sessions, which should confirm whether `as2core1` and `as2dist2` are compatible. Sessions can have various compatibility statuses. A correctly configured peer will have one of the following statuses:\n",
    "\n",
    "- `UNIQUE_MATCH`: The peer is active and has exactly one compatible remote peer.\n",
    "- `DYNAMIC_MATCH`: The peer is passive and has at least one compatible remote peer.\n",
    "- `UNKNOWN_REMOTE`: The peer is active, but its remote IP is not associated with a known interface. Most likely, this peer is intended to establish a session with an external device, but if not, it is improperly configured.\n",
    "- `NO_MATCH_FOUND`: The peer is passive, but no active peers in the network are compatible with it. Most likely, this peer is expecting sessions to be initiated by external devices, but if not, it is improperly configured.\n",
    "\n",
    "Other statuses may indicate basic configuration issues, such as `NO_LOCAL_IP` or `NO_REMOTE_AS`, as well as more subtle issues:\n",
    "\n",
    "- `INVALID_LOCAL_IP`: The peer is configured with a local IP that isn't associated with a known interface.\n",
    "- `HALF_OPEN`: The peer is active and its remote IP is recognized, but no compatible peer exists on the remote interface.\n",
    "- `MULTIPLE_REMOTES`: The peer is active with multiple remote peers configured compatibly.\n",
    "\n",
    "If `as2core1` and `as2dist2` are compatibly configured, we should see `UNIQUE_MATCH` for their session."
   ]
  },
  {
   "cell_type": "code",
   "execution_count": 6,
   "metadata": {},
   "outputs": [
    {
     "data": {
      "text/html": [
       "<div>\n",
       "<style scoped>\n",
       "    .dataframe tbody tr th:only-of-type {\n",
       "        vertical-align: middle;\n",
       "    }\n",
       "\n",
       "    .dataframe tbody tr th {\n",
       "        vertical-align: top;\n",
       "    }\n",
       "\n",
       "    .dataframe thead th {\n",
       "        text-align: right;\n",
       "    }\n",
       "</style>\n",
       "<table border=\"1\" class=\"dataframe\">\n",
       "  <thead>\n",
       "    <tr style=\"text-align: right;\">\n",
       "      <th></th>\n",
       "      <th>Node</th>\n",
       "      <th>VRF</th>\n",
       "      <th>Local_AS</th>\n",
       "      <th>Local_Interface</th>\n",
       "      <th>Local_IP</th>\n",
       "      <th>Remote_AS</th>\n",
       "      <th>Remote_Node</th>\n",
       "      <th>Remote_IP</th>\n",
       "      <th>Session_Type</th>\n",
       "      <th>Configured_Status</th>\n",
       "    </tr>\n",
       "  </thead>\n",
       "  <tbody>\n",
       "    <tr>\n",
       "      <th>0</th>\n",
       "      <td>as2core1</td>\n",
       "      <td>default</td>\n",
       "      <td>2</td>\n",
       "      <td>as2core1:Loopback0</td>\n",
       "      <td>2.1.2.1</td>\n",
       "      <td>2</td>\n",
       "      <td>as2dist2</td>\n",
       "      <td>2.1.3.2</td>\n",
       "      <td>IBGP</td>\n",
       "      <td>UNIQUE_MATCH</td>\n",
       "    </tr>\n",
       "    <tr>\n",
       "      <th>1</th>\n",
       "      <td>as2dist2</td>\n",
       "      <td>default</td>\n",
       "      <td>2</td>\n",
       "      <td>as2dist2:Loopback0</td>\n",
       "      <td>2.1.3.2</td>\n",
       "      <td>2</td>\n",
       "      <td>as2core1</td>\n",
       "      <td>2.1.2.1</td>\n",
       "      <td>IBGP</td>\n",
       "      <td>UNIQUE_MATCH</td>\n",
       "    </tr>\n",
       "  </tbody>\n",
       "</table>\n",
       "</div>"
      ],
      "text/plain": [
       "       Node      VRF  Local_AS     Local_Interface Local_IP  Remote_AS  \\\n",
       "0  as2core1  default  2         as2core1:Loopback0  2.1.2.1  2           \n",
       "1  as2dist2  default  2         as2dist2:Loopback0  2.1.3.2  2           \n",
       "\n",
       "  Remote_Node Remote_IP Session_Type Configured_Status  \n",
       "0  as2dist2    2.1.3.2   IBGP         UNIQUE_MATCH      \n",
       "1  as2core1    2.1.2.1   IBGP         UNIQUE_MATCH      "
      ]
     },
     "execution_count": 6,
     "metadata": {},
     "output_type": "execute_result"
    }
   ],
   "source": [
    "bfq.bgpSessionCompatibility(nodes='as2core1|as2dist2', remoteNodes='as2core1|as2dist2').answer().frame()"
   ]
  },
  {
   "cell_type": "markdown",
   "metadata": {},
   "source": [
    "Looking at the results for the session between `as2core1` and `as2dist2`, we are now confident that the BGP peers are correctly configured. There must be some other problem preventing the session from being established.\n",
    "\n",
    "While we're looking at `BgpSessionCompatibility`, let's check the rest of the network for any BGP sessions that may not be compatible. We will limit the output to peers whose configured status is *not* `UNIQUE_MATCH` or `DYNAMIC_MATCH`."
   ]
  },
  {
   "cell_type": "code",
   "execution_count": 7,
   "metadata": {},
   "outputs": [
    {
     "data": {
      "text/html": [
       "<div>\n",
       "<style scoped>\n",
       "    .dataframe tbody tr th:only-of-type {\n",
       "        vertical-align: middle;\n",
       "    }\n",
       "\n",
       "    .dataframe tbody tr th {\n",
       "        vertical-align: top;\n",
       "    }\n",
       "\n",
       "    .dataframe thead th {\n",
       "        text-align: right;\n",
       "    }\n",
       "</style>\n",
       "<table border=\"1\" class=\"dataframe\">\n",
       "  <thead>\n",
       "    <tr style=\"text-align: right;\">\n",
       "      <th></th>\n",
       "      <th>Node</th>\n",
       "      <th>VRF</th>\n",
       "      <th>Local_AS</th>\n",
       "      <th>Local_Interface</th>\n",
       "      <th>Local_IP</th>\n",
       "      <th>Remote_AS</th>\n",
       "      <th>Remote_Node</th>\n",
       "      <th>Remote_IP</th>\n",
       "      <th>Session_Type</th>\n",
       "      <th>Configured_Status</th>\n",
       "    </tr>\n",
       "  </thead>\n",
       "  <tbody>\n",
       "    <tr>\n",
       "      <th>1</th>\n",
       "      <td>as1border1</td>\n",
       "      <td>default</td>\n",
       "      <td>1</td>\n",
       "      <td>None</td>\n",
       "      <td>None</td>\n",
       "      <td>666</td>\n",
       "      <td>None</td>\n",
       "      <td>3.2.2.2</td>\n",
       "      <td>EBGP_SINGLEHOP</td>\n",
       "      <td>NO_LOCAL_IP</td>\n",
       "    </tr>\n",
       "    <tr>\n",
       "      <th>2</th>\n",
       "      <td>as1border1</td>\n",
       "      <td>default</td>\n",
       "      <td>1</td>\n",
       "      <td>None</td>\n",
       "      <td>None</td>\n",
       "      <td>555</td>\n",
       "      <td>None</td>\n",
       "      <td>5.6.7.8</td>\n",
       "      <td>EBGP_SINGLEHOP</td>\n",
       "      <td>NO_LOCAL_IP</td>\n",
       "    </tr>\n",
       "    <tr>\n",
       "      <th>6</th>\n",
       "      <td>as1border2</td>\n",
       "      <td>default</td>\n",
       "      <td>1</td>\n",
       "      <td>as1border2:GigabitEthernet2/0</td>\n",
       "      <td>10.14.22.1</td>\n",
       "      <td>4</td>\n",
       "      <td>None</td>\n",
       "      <td>10.14.22.4</td>\n",
       "      <td>EBGP_SINGLEHOP</td>\n",
       "      <td>UNKNOWN_REMOTE</td>\n",
       "    </tr>\n",
       "    <tr>\n",
       "      <th>13</th>\n",
       "      <td>as2border2</td>\n",
       "      <td>default</td>\n",
       "      <td>2</td>\n",
       "      <td>None</td>\n",
       "      <td>None</td>\n",
       "      <td>2</td>\n",
       "      <td>None</td>\n",
       "      <td>2.1.2.2</td>\n",
       "      <td>IBGP</td>\n",
       "      <td>LOCAL_IP_UNKNOWN_STATICALLY</td>\n",
       "    </tr>\n",
       "    <tr>\n",
       "      <th>20</th>\n",
       "      <td>as2core2</td>\n",
       "      <td>default</td>\n",
       "      <td>2</td>\n",
       "      <td>as2core2:Loopback0</td>\n",
       "      <td>2.1.2.2</td>\n",
       "      <td>2</td>\n",
       "      <td>None</td>\n",
       "      <td>2.1.1.2</td>\n",
       "      <td>IBGP</td>\n",
       "      <td>HALF_OPEN</td>\n",
       "    </tr>\n",
       "  </tbody>\n",
       "</table>\n",
       "</div>"
      ],
      "text/plain": [
       "          Node      VRF  Local_AS                Local_Interface    Local_IP  \\\n",
       "1   as1border1  default  1         None                           None         \n",
       "2   as1border1  default  1         None                           None         \n",
       "6   as1border2  default  1         as1border2:GigabitEthernet2/0  10.14.22.1   \n",
       "13  as2border2  default  2         None                           None         \n",
       "20  as2core2    default  2         as2core2:Loopback0             2.1.2.2      \n",
       "\n",
       "    Remote_AS Remote_Node   Remote_IP    Session_Type  \\\n",
       "1   666        None        3.2.2.2     EBGP_SINGLEHOP   \n",
       "2   555        None        5.6.7.8     EBGP_SINGLEHOP   \n",
       "6   4          None        10.14.22.4  EBGP_SINGLEHOP   \n",
       "13  2          None        2.1.2.2     IBGP             \n",
       "20  2          None        2.1.1.2     IBGP             \n",
       "\n",
       "              Configured_Status  \n",
       "1   NO_LOCAL_IP                  \n",
       "2   NO_LOCAL_IP                  \n",
       "6   UNKNOWN_REMOTE               \n",
       "13  LOCAL_IP_UNKNOWN_STATICALLY  \n",
       "20  HALF_OPEN                    "
      ]
     },
     "execution_count": 7,
     "metadata": {},
     "output_type": "execute_result"
    }
   ],
   "source": [
    "all_session_compatibility = bfq.bgpSessionCompatibility().answer().frame()\n",
    "all_session_compatibility[\n",
    "    (all_session_compatibility['Configured_Status'] != 'UNIQUE_MATCH')\n",
    "    & (all_session_compatibility['Configured_Status'] != 'DYNAMIC_MATCH')]"
   ]
  },
  {
   "cell_type": "markdown",
   "metadata": {},
   "source": [
    "Of these results, the first two have no local IP configured, so will be unable to establish sessions: almost certainly an oversight that should be fixed. The third has a remote IP outside of the network Batfish is modeling, so it may be able to establish a session in the live network, but Batfish doesn't have enough information to be sure.\n",
    "\n",
    "### TODO explain last two results\n",
    "\n",
    "These three results do not offer an explanation for the problem at hand, so let's keep looking."
   ]
  },
  {
   "cell_type": "markdown",
   "metadata": {},
   "source": [
    "## Check routes\n",
    "Now we know the BGP peers on `as2core1` and `as2dist2` are compatible, but the session is not established. Let's make sure both devices have a route to the interface of each other's BGP peers. Looking at any of the last few questions concerning these two nodes, we can see the IPs of these interfaces:\n",
    "\n",
    "- BGP peer on `as2core1` has local IP `2.1.2.1`\n",
    "- BGP peer on `as2dist2` has local IP `2.1.3.2`\n",
    "\n",
    "To see if the devices have the necessary routes to each other, we can search the output of the `Routes` question."
   ]
  },
  {
   "cell_type": "code",
   "execution_count": 22,
   "metadata": {},
   "outputs": [
    {
     "data": {
      "text/html": [
       "<div>\n",
       "<style scoped>\n",
       "    .dataframe tbody tr th:only-of-type {\n",
       "        vertical-align: middle;\n",
       "    }\n",
       "\n",
       "    .dataframe tbody tr th {\n",
       "        vertical-align: top;\n",
       "    }\n",
       "\n",
       "    .dataframe thead th {\n",
       "        text-align: right;\n",
       "    }\n",
       "</style>\n",
       "<table border=\"1\" class=\"dataframe\">\n",
       "  <thead>\n",
       "    <tr style=\"text-align: right;\">\n",
       "      <th></th>\n",
       "      <th>Node</th>\n",
       "      <th>VRF</th>\n",
       "      <th>Network</th>\n",
       "      <th>Protocol</th>\n",
       "      <th>Next_Hop_IP</th>\n",
       "      <th>Next_Hop</th>\n",
       "      <th>Admin_Distance</th>\n",
       "      <th>Metric</th>\n",
       "      <th>Tag</th>\n",
       "    </tr>\n",
       "  </thead>\n",
       "  <tbody>\n",
       "    <tr>\n",
       "      <th>220</th>\n",
       "      <td>as2core1</td>\n",
       "      <td>default</td>\n",
       "      <td>2.1.3.2/32</td>\n",
       "      <td>ospf</td>\n",
       "      <td>2.23.12.3</td>\n",
       "      <td>as2dist2</td>\n",
       "      <td>110</td>\n",
       "      <td>2</td>\n",
       "      <td>None</td>\n",
       "    </tr>\n",
       "  </tbody>\n",
       "</table>\n",
       "</div>"
      ],
      "text/plain": [
       "         Node      VRF     Network Protocol Next_Hop_IP  Next_Hop  \\\n",
       "220  as2core1  default  2.1.3.2/32  ospf     2.23.12.3   as2dist2   \n",
       "\n",
       "     Admin_Distance  Metric   Tag  \n",
       "220  110             2       None  "
      ]
     },
     "execution_count": 22,
     "metadata": {},
     "output_type": "execute_result"
    }
   ],
   "source": [
    "# See if as2core1 has a route to 2.1.3.2 (the local IP for as2dist2's BGP peer)\n",
    "routes = bfq.routes().answer().frame()\n",
    "routes[(routes['Node'] == 'as2core1') & (routes['Network'] == '2.1.3.2/32')]"
   ]
  },
  {
   "cell_type": "code",
   "execution_count": 23,
   "metadata": {},
   "outputs": [
    {
     "data": {
      "text/html": [
       "<div>\n",
       "<style scoped>\n",
       "    .dataframe tbody tr th:only-of-type {\n",
       "        vertical-align: middle;\n",
       "    }\n",
       "\n",
       "    .dataframe tbody tr th {\n",
       "        vertical-align: top;\n",
       "    }\n",
       "\n",
       "    .dataframe thead th {\n",
       "        text-align: right;\n",
       "    }\n",
       "</style>\n",
       "<table border=\"1\" class=\"dataframe\">\n",
       "  <thead>\n",
       "    <tr style=\"text-align: right;\">\n",
       "      <th></th>\n",
       "      <th>Node</th>\n",
       "      <th>VRF</th>\n",
       "      <th>Network</th>\n",
       "      <th>Protocol</th>\n",
       "      <th>Next_Hop_IP</th>\n",
       "      <th>Next_Hop</th>\n",
       "      <th>Admin_Distance</th>\n",
       "      <th>Metric</th>\n",
       "      <th>Tag</th>\n",
       "    </tr>\n",
       "  </thead>\n",
       "  <tbody>\n",
       "  </tbody>\n",
       "</table>\n",
       "</div>"
      ],
      "text/plain": [
       "Empty DataFrame\n",
       "Columns: [Node, VRF, Network, Protocol, Next_Hop_IP, Next_Hop, Admin_Distance, Metric, Tag]\n",
       "Index: []"
      ]
     },
     "execution_count": 23,
     "metadata": {},
     "output_type": "execute_result"
    }
   ],
   "source": [
    "# See if as2dist2 has a route to 2.1.2.1 (the local IP for as2core1's BGP peer)\n",
    "routes[(routes['Node'] == 'as2dist2') & (routes['Network'] == '2.1.2.1/32')]"
   ]
  },
  {
   "cell_type": "markdown",
   "metadata": {},
   "source": [
    "The mystery is solved! Node `as2dist2` has no route for its BGP peer's remote IP, so even though the BGP peer was configured correctly, the session could not be established."
   ]
  },
  {
   "cell_type": "markdown",
   "metadata": {},
   "source": [
    "***\n",
    "## Get involved with the Batfish community\n",
    "\n",
    "Join our community on [Slack](https://join.slack.com/t/batfish-org/shared_invite/enQtMzA0Nzg2OTAzNzQ1LTUxOTJlY2YyNTVlNGQ3MTJkOTIwZTU2YjY3YzRjZWFiYzE4ODE5ODZiNjA4NGI5NTJhZmU2ZTllOTMwZDhjMzA) and [Github](https://github.com/batfish/batfish). "
   ]
  }
 ],
 "metadata": {
  "kernelspec": {
   "display_name": "Python 3",
   "language": "python",
   "name": "python3"
  },
  "language_info": {
   "codemirror_mode": {
    "name": "ipython",
    "version": 3
   },
   "file_extension": ".py",
   "mimetype": "text/x-python",
   "name": "python",
   "nbconvert_exporter": "python",
   "pygments_lexer": "ipython3",
   "version": "3.6.4"
  }
 },
 "nbformat": 4,
 "nbformat_minor": 2
}
