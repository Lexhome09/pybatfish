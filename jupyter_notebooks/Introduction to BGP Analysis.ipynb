{
 "cells": [
  {
   "cell_type": "markdown",
   "metadata": {},
   "source": [
    "## Introduction to BGP Analysis using Batfish"
   ]
  },
  {
   "cell_type": "markdown",
   "metadata": {},
   "source": [
    "Network engineers routinely need to validate BGP configuration and session status in the network. They often do that by connecting to multiple network devices and executing a series of `show ip bgp` commands. This distributed debugging is highly complex even in a moderately-sized network. Batfish makes this task extremely simple by providing an easy-to-query, centralized view of routing tables in the network. \n",
    "\n",
    "In this notebook, we will look at how you can extract BGP configuration and session status information from Batfish.\n",
    "\n",
    "![Analytics](https://ga-beacon.appspot.com/UA-100596389-3/open-source/pybatfish/jupyter_notebooks/intro-bgp-analysis?pixel&useReferer)"
   ]
  },
  {
   "cell_type": "code",
   "execution_count": 1,
   "metadata": {},
   "outputs": [
    {
     "name": "stderr",
     "output_type": "stream",
     "text": [
      "/Users/samir/git/pybatfish/pybatfish/client/commands.py:50: UserWarning: Pybatfish public API is being updated, note that API names and parameters will soon change.\n",
      "  \"Pybatfish public API is being updated, note that API names and parameters will soon change.\")\n"
     ]
    }
   ],
   "source": [
    "# Import packages and load questions\n",
    "%run startup.py"
   ]
  },
  {
   "cell_type": "markdown",
   "metadata": {},
   "source": [
    " ### Initializing the Network and Snapshot"
   ]
  },
  {
   "cell_type": "markdown",
   "metadata": {},
   "source": [
    "`SNAPSHOT_PATH` below can be updated to point to a custom snapshot directory, see the [Batfish instructions](https://github.com/batfish/batfish/wiki/Packaging-snapshots-for-analysis) for how to package data for analysis.<br>\n",
    "More example networks are available in the [networks](https://github.com/batfish/batfish/tree/master/networks) folder of the Batfish repository."
   ]
  },
  {
   "cell_type": "code",
   "execution_count": 2,
   "metadata": {},
   "outputs": [
    {
     "data": {
      "text/plain": [
       "'example_snapshot'"
      ]
     },
     "execution_count": 2,
     "metadata": {},
     "output_type": "execute_result"
    }
   ],
   "source": [
    "# Initialize a network and snapshot\n",
    "NETWORK_NAME = \"example_network\"\n",
    "SNAPSHOT_NAME = \"example_snapshot\"\n",
    "\n",
    "SNAPSHOT_PATH = \"networks/example\"\n",
    "\n",
    "bf_set_network(NETWORK_NAME)\n",
    "bf_init_snapshot(SNAPSHOT_PATH, name=SNAPSHOT_NAME, overwrite=True)"
   ]
  },
  {
   "cell_type": "markdown",
   "metadata": {},
   "source": [
    "The network snapshot that we initialized above is illustrated below. You can download/view devices' configuration files [here](https://github.com/batfish/pybatfish/tree/master/jupyter_notebooks/networks/example).\n",
    "\n",
    "![example-network](https://raw.githubusercontent.com/batfish/pybatfish/master/jupyter_notebooks/networks/example/example-network.png)"
   ]
  },
  {
   "cell_type": "markdown",
   "metadata": {},
   "source": [
    "All of the information we will show you in this notebook is dynamically computed by Batfish based on the configuration files for the network devices."
   ]
  },
  {
   "cell_type": "markdown",
   "metadata": {},
   "source": [
    "### View BGP Configuration for ALL devices\n",
    "Batfish makes BGP Configuration settings in the network easily accessible. Let's take a look at how you can retrieve the specific information you want. Let's start with configuration attributes of the BGP process on all devices running BGP."
   ]
  },
  {
   "cell_type": "code",
   "execution_count": 5,
   "metadata": {
    "scrolled": true
   },
   "outputs": [
    {
     "data": {
      "text/html": [
       "<div>\n",
       "<style scoped>\n",
       "    .dataframe tbody tr th:only-of-type {\n",
       "        vertical-align: middle;\n",
       "    }\n",
       "\n",
       "    .dataframe tbody tr th {\n",
       "        vertical-align: top;\n",
       "    }\n",
       "\n",
       "    .dataframe thead th {\n",
       "        text-align: right;\n",
       "    }\n",
       "</style>\n",
       "<table border=\"1\" class=\"dataframe\">\n",
       "  <thead>\n",
       "    <tr style=\"text-align: right;\">\n",
       "      <th></th>\n",
       "      <th>Node</th>\n",
       "      <th>VRF</th>\n",
       "      <th>Router_ID</th>\n",
       "      <th>Cluster_IDs</th>\n",
       "      <th>Multipath_EBGP</th>\n",
       "      <th>Multipath_IBGP</th>\n",
       "      <th>Tie_Breaker</th>\n",
       "      <th>Neighbors</th>\n",
       "      <th>Route_Reflector</th>\n",
       "      <th>Multipath_Match_Mode</th>\n",
       "    </tr>\n",
       "  </thead>\n",
       "  <tbody>\n",
       "    <tr>\n",
       "      <th>0</th>\n",
       "      <td>as2dept1</td>\n",
       "      <td>default</td>\n",
       "      <td>2.1.4.1</td>\n",
       "      <td>None</td>\n",
       "      <td>True</td>\n",
       "      <td>True</td>\n",
       "      <td>ARRIVAL_ORDER</td>\n",
       "      <td>['2.34.101.3/32', '2.34.201.3/32']</td>\n",
       "      <td>False</td>\n",
       "      <td>EXACT_PATH</td>\n",
       "    </tr>\n",
       "    <tr>\n",
       "      <th>1</th>\n",
       "      <td>as2dist2</td>\n",
       "      <td>default</td>\n",
       "      <td>2.1.3.2</td>\n",
       "      <td>None</td>\n",
       "      <td>True</td>\n",
       "      <td>True</td>\n",
       "      <td>ARRIVAL_ORDER</td>\n",
       "      <td>['2.1.2.1/32', '2.1.2.2/32', '2.34.201.4/32']</td>\n",
       "      <td>False</td>\n",
       "      <td>EXACT_PATH</td>\n",
       "    </tr>\n",
       "    <tr>\n",
       "      <th>2</th>\n",
       "      <td>as2core1</td>\n",
       "      <td>default</td>\n",
       "      <td>2.1.2.1</td>\n",
       "      <td>['2.1.2.1']</td>\n",
       "      <td>True</td>\n",
       "      <td>True</td>\n",
       "      <td>ARRIVAL_ORDER</td>\n",
       "      <td>['2.1.1.1/32', '2.1.1.2/32', '2.1.3.1/32', '2.1.3.2/32']</td>\n",
       "      <td>True</td>\n",
       "      <td>EXACT_PATH</td>\n",
       "    </tr>\n",
       "    <tr>\n",
       "      <th>3</th>\n",
       "      <td>as1border2</td>\n",
       "      <td>default</td>\n",
       "      <td>1.2.2.2</td>\n",
       "      <td>None</td>\n",
       "      <td>True</td>\n",
       "      <td>True</td>\n",
       "      <td>ARRIVAL_ORDER</td>\n",
       "      <td>['1.10.1.1/32', '10.13.22.3/32', '10.14.22.4/32']</td>\n",
       "      <td>False</td>\n",
       "      <td>EXACT_PATH</td>\n",
       "    </tr>\n",
       "    <tr>\n",
       "      <th>4</th>\n",
       "      <td>as2dist1</td>\n",
       "      <td>default</td>\n",
       "      <td>2.1.3.1</td>\n",
       "      <td>None</td>\n",
       "      <td>True</td>\n",
       "      <td>True</td>\n",
       "      <td>ARRIVAL_ORDER</td>\n",
       "      <td>['2.1.2.1/32', '2.1.2.2/32', '2.34.101.4/32']</td>\n",
       "      <td>False</td>\n",
       "      <td>EXACT_PATH</td>\n",
       "    </tr>\n",
       "    <tr>\n",
       "      <th>5</th>\n",
       "      <td>as3border2</td>\n",
       "      <td>default</td>\n",
       "      <td>3.2.2.2</td>\n",
       "      <td>None</td>\n",
       "      <td>True</td>\n",
       "      <td>True</td>\n",
       "      <td>ARRIVAL_ORDER</td>\n",
       "      <td>['3.10.1.1/32', '10.13.22.1/32']</td>\n",
       "      <td>False</td>\n",
       "      <td>EXACT_PATH</td>\n",
       "    </tr>\n",
       "    <tr>\n",
       "      <th>6</th>\n",
       "      <td>as2core2</td>\n",
       "      <td>default</td>\n",
       "      <td>2.1.2.2</td>\n",
       "      <td>['2.1.2.2']</td>\n",
       "      <td>True</td>\n",
       "      <td>True</td>\n",
       "      <td>ARRIVAL_ORDER</td>\n",
       "      <td>['2.1.1.1/32', '2.1.1.2/32', '2.1.3.1/32', '2.1.3.2/32']</td>\n",
       "      <td>True</td>\n",
       "      <td>EXACT_PATH</td>\n",
       "    </tr>\n",
       "    <tr>\n",
       "      <th>7</th>\n",
       "      <td>as1border1</td>\n",
       "      <td>default</td>\n",
       "      <td>1.1.1.1</td>\n",
       "      <td>None</td>\n",
       "      <td>True</td>\n",
       "      <td>True</td>\n",
       "      <td>ARRIVAL_ORDER</td>\n",
       "      <td>['1.10.1.1/32', '3.2.2.2/32', '5.6.7.8/32', '10.12.11.2/32']</td>\n",
       "      <td>False</td>\n",
       "      <td>EXACT_PATH</td>\n",
       "    </tr>\n",
       "    <tr>\n",
       "      <th>8</th>\n",
       "      <td>as3border1</td>\n",
       "      <td>default</td>\n",
       "      <td>3.1.1.1</td>\n",
       "      <td>None</td>\n",
       "      <td>True</td>\n",
       "      <td>True</td>\n",
       "      <td>ARRIVAL_ORDER</td>\n",
       "      <td>['3.10.1.1/32', '10.23.21.2/32']</td>\n",
       "      <td>False</td>\n",
       "      <td>EXACT_PATH</td>\n",
       "    </tr>\n",
       "    <tr>\n",
       "      <th>9</th>\n",
       "      <td>as2border1</td>\n",
       "      <td>default</td>\n",
       "      <td>2.1.1.1</td>\n",
       "      <td>None</td>\n",
       "      <td>True</td>\n",
       "      <td>True</td>\n",
       "      <td>ARRIVAL_ORDER</td>\n",
       "      <td>['2.1.2.1/32', '2.1.2.2/32', '10.12.11.1/32']</td>\n",
       "      <td>False</td>\n",
       "      <td>EXACT_PATH</td>\n",
       "    </tr>\n",
       "    <tr>\n",
       "      <th>10</th>\n",
       "      <td>as3core1</td>\n",
       "      <td>default</td>\n",
       "      <td>3.10.1.1</td>\n",
       "      <td>['3.10.1.1']</td>\n",
       "      <td>True</td>\n",
       "      <td>True</td>\n",
       "      <td>ARRIVAL_ORDER</td>\n",
       "      <td>['3.1.1.1/32', '3.2.2.2/32']</td>\n",
       "      <td>True</td>\n",
       "      <td>EXACT_PATH</td>\n",
       "    </tr>\n",
       "    <tr>\n",
       "      <th>11</th>\n",
       "      <td>as1core1</td>\n",
       "      <td>default</td>\n",
       "      <td>1.10.1.1</td>\n",
       "      <td>['1.10.1.1']</td>\n",
       "      <td>True</td>\n",
       "      <td>True</td>\n",
       "      <td>ARRIVAL_ORDER</td>\n",
       "      <td>['1.1.1.1/32', '1.2.2.2/32']</td>\n",
       "      <td>True</td>\n",
       "      <td>EXACT_PATH</td>\n",
       "    </tr>\n",
       "    <tr>\n",
       "      <th>12</th>\n",
       "      <td>as2border2</td>\n",
       "      <td>default</td>\n",
       "      <td>2.1.1.2</td>\n",
       "      <td>None</td>\n",
       "      <td>True</td>\n",
       "      <td>True</td>\n",
       "      <td>ARRIVAL_ORDER</td>\n",
       "      <td>['2.1.2.1/32', '2.1.2.2/32', '10.23.21.3/32']</td>\n",
       "      <td>False</td>\n",
       "      <td>EXACT_PATH</td>\n",
       "    </tr>\n",
       "  </tbody>\n",
       "</table>\n",
       "</div>"
      ],
      "text/plain": [
       "          Node      VRF Router_ID   Cluster_IDs  Multipath_EBGP  \\\n",
       "0   as2dept1    default  2.1.4.1   None          True             \n",
       "1   as2dist2    default  2.1.3.2   None          True             \n",
       "2   as2core1    default  2.1.2.1   ['2.1.2.1']   True             \n",
       "3   as1border2  default  1.2.2.2   None          True             \n",
       "4   as2dist1    default  2.1.3.1   None          True             \n",
       "5   as3border2  default  3.2.2.2   None          True             \n",
       "6   as2core2    default  2.1.2.2   ['2.1.2.2']   True             \n",
       "7   as1border1  default  1.1.1.1   None          True             \n",
       "8   as3border1  default  3.1.1.1   None          True             \n",
       "9   as2border1  default  2.1.1.1   None          True             \n",
       "10  as3core1    default  3.10.1.1  ['3.10.1.1']  True             \n",
       "11  as1core1    default  1.10.1.1  ['1.10.1.1']  True             \n",
       "12  as2border2  default  2.1.1.2   None          True             \n",
       "\n",
       "    Multipath_IBGP    Tie_Breaker  \\\n",
       "0   True            ARRIVAL_ORDER   \n",
       "1   True            ARRIVAL_ORDER   \n",
       "2   True            ARRIVAL_ORDER   \n",
       "3   True            ARRIVAL_ORDER   \n",
       "4   True            ARRIVAL_ORDER   \n",
       "5   True            ARRIVAL_ORDER   \n",
       "6   True            ARRIVAL_ORDER   \n",
       "7   True            ARRIVAL_ORDER   \n",
       "8   True            ARRIVAL_ORDER   \n",
       "9   True            ARRIVAL_ORDER   \n",
       "10  True            ARRIVAL_ORDER   \n",
       "11  True            ARRIVAL_ORDER   \n",
       "12  True            ARRIVAL_ORDER   \n",
       "\n",
       "                                                       Neighbors  \\\n",
       "0   ['2.34.101.3/32', '2.34.201.3/32']                             \n",
       "1   ['2.1.2.1/32', '2.1.2.2/32', '2.34.201.4/32']                  \n",
       "2   ['2.1.1.1/32', '2.1.1.2/32', '2.1.3.1/32', '2.1.3.2/32']       \n",
       "3   ['1.10.1.1/32', '10.13.22.3/32', '10.14.22.4/32']              \n",
       "4   ['2.1.2.1/32', '2.1.2.2/32', '2.34.101.4/32']                  \n",
       "5   ['3.10.1.1/32', '10.13.22.1/32']                               \n",
       "6   ['2.1.1.1/32', '2.1.1.2/32', '2.1.3.1/32', '2.1.3.2/32']       \n",
       "7   ['1.10.1.1/32', '3.2.2.2/32', '5.6.7.8/32', '10.12.11.2/32']   \n",
       "8   ['3.10.1.1/32', '10.23.21.2/32']                               \n",
       "9   ['2.1.2.1/32', '2.1.2.2/32', '10.12.11.1/32']                  \n",
       "10  ['3.1.1.1/32', '3.2.2.2/32']                                   \n",
       "11  ['1.1.1.1/32', '1.2.2.2/32']                                   \n",
       "12  ['2.1.2.1/32', '2.1.2.2/32', '10.23.21.3/32']                  \n",
       "\n",
       "    Route_Reflector Multipath_Match_Mode  \n",
       "0   False            EXACT_PATH           \n",
       "1   False            EXACT_PATH           \n",
       "2   True             EXACT_PATH           \n",
       "3   False            EXACT_PATH           \n",
       "4   False            EXACT_PATH           \n",
       "5   False            EXACT_PATH           \n",
       "6   True             EXACT_PATH           \n",
       "7   False            EXACT_PATH           \n",
       "8   False            EXACT_PATH           \n",
       "9   False            EXACT_PATH           \n",
       "10  True             EXACT_PATH           \n",
       "11  True             EXACT_PATH           \n",
       "12  False            EXACT_PATH           "
      ]
     },
     "execution_count": 5,
     "metadata": {},
     "output_type": "execute_result"
    }
   ],
   "source": [
    "# Get BGP process configuration information for ALL devices\n",
    "bgp_config = bfq.bgpProcessConfiguration().answer().frame()\n",
    "bgp_config"
   ]
  },
  {
   "cell_type": "markdown",
   "metadata": {},
   "source": [
    "NOTE: Any router that has a `Cluster ID` set is configured to be a route-reflector for some of it's BGP peers"
   ]
  },
  {
   "cell_type": "markdown",
   "metadata": {},
   "source": [
    "Now let's drill into the configuration of a specific BGP session. Let's look at the session on `as2dept1` to `2.34.101.3`"
   ]
  },
  {
   "cell_type": "code",
   "execution_count": 7,
   "metadata": {},
   "outputs": [
    {
     "data": {
      "text/html": [
       "<div>\n",
       "<style scoped>\n",
       "    .dataframe tbody tr th:only-of-type {\n",
       "        vertical-align: middle;\n",
       "    }\n",
       "\n",
       "    .dataframe tbody tr th {\n",
       "        vertical-align: top;\n",
       "    }\n",
       "\n",
       "    .dataframe thead th {\n",
       "        text-align: right;\n",
       "    }\n",
       "</style>\n",
       "<table border=\"1\" class=\"dataframe\">\n",
       "  <thead>\n",
       "    <tr style=\"text-align: right;\">\n",
       "      <th></th>\n",
       "      <th>Node</th>\n",
       "      <th>VRF</th>\n",
       "      <th>Local_AS</th>\n",
       "      <th>Local_IP</th>\n",
       "      <th>Remote_AS</th>\n",
       "      <th>Remote_IP</th>\n",
       "      <th>Route_Reflector_Client</th>\n",
       "      <th>Peer_Group</th>\n",
       "      <th>Import_Policy</th>\n",
       "      <th>Export_Policy</th>\n",
       "      <th>Send_Community</th>\n",
       "    </tr>\n",
       "  </thead>\n",
       "  <tbody>\n",
       "    <tr>\n",
       "      <th>14</th>\n",
       "      <td>as2dept1</td>\n",
       "      <td>default</td>\n",
       "      <td>65001</td>\n",
       "      <td>2.34.201.4</td>\n",
       "      <td>2</td>\n",
       "      <td>2.34.201.3</td>\n",
       "      <td>False</td>\n",
       "      <td>as2</td>\n",
       "      <td>['as2_to_dept']</td>\n",
       "      <td>['dept_to_as2']</td>\n",
       "      <td>True</td>\n",
       "    </tr>\n",
       "    <tr>\n",
       "      <th>28</th>\n",
       "      <td>as2dept1</td>\n",
       "      <td>default</td>\n",
       "      <td>65001</td>\n",
       "      <td>2.34.101.4</td>\n",
       "      <td>2</td>\n",
       "      <td>2.34.101.3</td>\n",
       "      <td>False</td>\n",
       "      <td>as2</td>\n",
       "      <td>['as2_to_dept']</td>\n",
       "      <td>['dept_to_as2']</td>\n",
       "      <td>True</td>\n",
       "    </tr>\n",
       "  </tbody>\n",
       "</table>\n",
       "</div>"
      ],
      "text/plain": [
       "        Node      VRF  Local_AS    Local_IP  Remote_AS   Remote_IP  \\\n",
       "14  as2dept1  default  65001     2.34.201.4  2          2.34.201.3   \n",
       "28  as2dept1  default  65001     2.34.101.4  2          2.34.101.3   \n",
       "\n",
       "    Route_Reflector_Client Peer_Group    Import_Policy    Export_Policy  \\\n",
       "14  False                   as2        ['as2_to_dept']  ['dept_to_as2']   \n",
       "28  False                   as2        ['as2_to_dept']  ['dept_to_as2']   \n",
       "\n",
       "    Send_Community  \n",
       "14  True            \n",
       "28  True            "
      ]
     },
     "execution_count": 7,
     "metadata": {},
     "output_type": "execute_result"
    }
   ],
   "source": [
    "bgp_peer_config = bfq.bgpPeerConfiguration().answer().frame()\n",
    "bgp_peer_config[bgp_peer_config['Node'].str.contains('as2dept1')]"
   ]
  },
  {
   "cell_type": "markdown",
   "metadata": {},
   "source": [
    "`as2dept1` has 2 configured bgp peers. Let's take a look at the input and output route policies for each peer"
   ]
  },
  {
   "cell_type": "code",
   "execution_count": null,
   "metadata": {},
   "outputs": [],
   "source": [
    "# extract input and then output route-policy for one peer\n",
    "# display the name of the policy\n",
    "# display the contents of the policy\n",
    "# good to connect this to `referencedStructures` if possible"
   ]
  },
  {
   "cell_type": "markdown",
   "metadata": {},
   "source": [
    "### View BGP Session Status"
   ]
  },
  {
   "cell_type": "markdown",
   "metadata": {},
   "source": [
    "Now that we have seen the configuration for each peer on `as2dept1`, let's ensure that their configuration is compatible with their peers"
   ]
  },
  {
   "cell_type": "code",
   "execution_count": null,
   "metadata": {},
   "outputs": [],
   "source": [
    "# Need to explain why this check exists"
   ]
  },
  {
   "cell_type": "code",
   "execution_count": null,
   "metadata": {},
   "outputs": [],
   "source": [
    "# bgpPeerCompatibility for `as2dept1`"
   ]
  },
  {
   "cell_type": "markdown",
   "metadata": {},
   "source": [
    "Since the sessions have compatible configurations, let's check that the sessions are actually established"
   ]
  },
  {
   "cell_type": "code",
   "execution_count": null,
   "metadata": {},
   "outputs": [],
   "source": [
    "# bgpSessionStatus for `as2dept1`"
   ]
  },
  {
   "cell_type": "markdown",
   "metadata": {},
   "source": [
    "Let's expand this check to see if there are any un-established sessions anywhere in the network"
   ]
  },
  {
   "cell_type": "code",
   "execution_count": null,
   "metadata": {},
   "outputs": [],
   "source": [
    "# bgpSessionStatus for entire network for sessions != ESTABLISHED"
   ]
  },
  {
   "cell_type": "markdown",
   "metadata": {},
   "source": [
    "With Batfish you can easily retrieve information about BGP configuration of all devices and peers, as well as status of each peer."
   ]
  },
  {
   "cell_type": "markdown",
   "metadata": {},
   "source": [
    "We hope you found this notebook useful and informative. Future notebooks will dive into more advanced topics like path analysis, debugging ACLs and firewall rules, validating routing policy, etc.. so stay tuned! "
   ]
  },
  {
   "cell_type": "markdown",
   "metadata": {},
   "source": [
    "### Want to know more? "
   ]
  },
  {
   "cell_type": "markdown",
   "metadata": {},
   "source": [
    "Reach out to us through [Slack](https://join.slack.com/t/batfish-org/shared_invite/enQtMzA0Nzg2OTAzNzQ1LTUxOTJlY2YyNTVlNGQ3MTJkOTIwZTU2YjY3YzRjZWFiYzE4ODE5ODZiNjA4NGI5NTJhZmU2ZTllOTMwZDhjMzA) or [Github](https://github.com/batfish/batfish) to learn more, or send feedback."
   ]
  },
  {
   "cell_type": "code",
   "execution_count": null,
   "metadata": {},
   "outputs": [],
   "source": []
  }
 ],
 "metadata": {
  "hide_input": false,
  "kernelspec": {
   "display_name": "Python 3",
   "language": "python",
   "name": "python3"
  },
  "language_info": {
   "codemirror_mode": {
    "name": "ipython",
    "version": 3
   },
   "file_extension": ".py",
   "mimetype": "text/x-python",
   "name": "python",
   "nbconvert_exporter": "python",
   "pygments_lexer": "ipython3",
   "version": "3.6.2"
  }
 },
 "nbformat": 4,
 "nbformat_minor": 2
}
